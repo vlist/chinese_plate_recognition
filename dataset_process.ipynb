{
 "cells": [
  {
   "cell_type": "code",
   "execution_count": 1,
   "metadata": {},
   "outputs": [],
   "source": [
    "import os\n",
    "from matplotlib import pyplot as plt"
   ]
  },
  {
   "cell_type": "code",
   "execution_count": 6,
   "metadata": {},
   "outputs": [],
   "source": [
    "characters = ['皖', '沪', '津', '渝', '冀', '晋', '蒙', '辽', '吉', '黑', '苏', '浙', '京', '闽', '赣', '鲁',\n",
    "                  '豫', '鄂', '湘', '粤', '桂', '琼', '川', '贵', '云', '藏', '陕', '甘', '青', '宁', '新', '警', '学']\n",
    "char_dict = dict()\n",
    "\n",
    "for item in characters:\n",
    "    char_dict[item] = 0"
   ]
  },
  {
   "cell_type": "code",
   "execution_count": 11,
   "metadata": {},
   "outputs": [],
   "source": [
    "dataset_path = \"plate_dataset/train\"\n",
    "item_list = os.listdir(dataset_path)\n",
    "for item in item_list:\n",
    "    city = item[0]\n",
    "    char_dict[city] += 1\n"
   ]
  },
  {
   "cell_type": "code",
   "execution_count": 12,
   "metadata": {},
   "outputs": [
    {
     "name": "stdout",
     "output_type": "stream",
     "text": [
      "{'皖': 464, '沪': 450, '津': 92, '渝': 114, '冀': 270, '晋': 102, '蒙': 36, '辽': 82, '吉': 24, '黑': 26, '苏': 496, '浙': 474, '京': 500, '闽': 314, '赣': 234, '鲁': 398, '豫': 470, '鄂': 428, '湘': 154, '粤': 442, '桂': 22, '琼': 10, '川': 190, '贵': 28, '云': 24, '藏': 2, '陕': 78, '甘': 28, '青': 14, '宁': 8, '新': 26, '警': 0, '学': 0}\n"
     ]
    }
   ],
   "source": [
    "print(char_dict)"
   ]
  },
  {
   "cell_type": "code",
   "execution_count": 16,
   "metadata": {},
   "outputs": [],
   "source": [
    "text = \"{},{}\\n\"\n",
    "output = \"\"\n",
    "for item in char_dict.keys():\n",
    "    output += text.format(item,char_dict[item])"
   ]
  },
  {
   "cell_type": "code",
   "execution_count": 17,
   "metadata": {},
   "outputs": [
    {
     "name": "stdout",
     "output_type": "stream",
     "text": [
      "皖,464\n",
      "沪,450\n",
      "津,92\n",
      "渝,114\n",
      "冀,270\n",
      "晋,102\n",
      "蒙,36\n",
      "辽,82\n",
      "吉,24\n",
      "黑,26\n",
      "苏,496\n",
      "浙,474\n",
      "京,500\n",
      "闽,314\n",
      "赣,234\n",
      "鲁,398\n",
      "豫,470\n",
      "鄂,428\n",
      "湘,154\n",
      "粤,442\n",
      "桂,22\n",
      "琼,10\n",
      "川,190\n",
      "贵,28\n",
      "云,24\n",
      "藏,2\n",
      "陕,78\n",
      "甘,28\n",
      "青,14\n",
      "宁,8\n",
      "新,26\n",
      "警,0\n",
      "学,0\n",
      "\n"
     ]
    }
   ],
   "source": []
  },
  {
   "cell_type": "code",
   "execution_count": null,
   "metadata": {},
   "outputs": [],
   "source": []
  }
 ],
 "metadata": {
  "interpreter": {
   "hash": "52ee2977380704a66854748a73250e0671a9318bd5b3fd45a3df9f851ae61629"
  },
  "kernelspec": {
   "display_name": "Python 3.9.7 64-bit ('tf': conda)",
   "language": "python",
   "name": "python3"
  },
  "language_info": {
   "codemirror_mode": {
    "name": "ipython",
    "version": 3
   },
   "file_extension": ".py",
   "mimetype": "text/x-python",
   "name": "python",
   "nbconvert_exporter": "python",
   "pygments_lexer": "ipython3",
   "version": "3.9.7"
  },
  "orig_nbformat": 4
 },
 "nbformat": 4,
 "nbformat_minor": 2
}
