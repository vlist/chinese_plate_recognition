{
 "cells": [
  {
   "cell_type": "code",
   "execution_count": 6,
   "metadata": {},
   "outputs": [],
   "source": [
    "import numpy as np\n",
    "import cv2\n",
    "import tensorflow as tf\n",
    "from tensorflow import keras as K\n",
    "from cnn import cnn_predict\n",
    "import os\n",
    "from matplotlib import pyplot as plt"
   ]
  },
  {
   "cell_type": "code",
   "execution_count": 7,
   "metadata": {},
   "outputs": [],
   "source": [
    "result = dict()\n",
    "class_name = \"c{}\"\n",
    "for idx in range(1,8):\n",
    "    result[class_name.format(idx)] = 0"
   ]
  },
  {
   "cell_type": "code",
   "execution_count": 5,
   "metadata": {},
   "outputs": [],
   "source": [
    "model_path = \"models/cnn_model.h5\"\n",
    "model = K.models.load_model(model_path)"
   ]
  },
  {
   "cell_type": "code",
   "execution_count": 11,
   "metadata": {},
   "outputs": [],
   "source": [
    "test_path = \"/Volumes/Untitled/plate_dataset/test\"\n",
    "item_list = os.listdir(test_path)"
   ]
  },
  {
   "cell_type": "code",
   "execution_count": 18,
   "metadata": {},
   "outputs": [
    {
     "name": "stderr",
     "output_type": "stream",
     "text": [
      "2022-01-06 18:53:25.796866: W tensorflow/core/platform/profile_utils/cpu_utils.cc:128] Failed to get CPU frequency: 0 Hz\n",
      "2022-01-06 18:53:25.900478: I tensorflow/core/grappler/optimizers/custom_graph_optimizer_registry.cc:112] Plugin optimizer for device_type GPU is enabled.\n"
     ]
    }
   ],
   "source": [
    "img = cv2.imread(os.path.join(test_path,item_list[1]))\n",
    "img_list = []\n",
    "img_list.append(img)\n",
    "lic_pred = cnn_predict(model, img_list)"
   ]
  },
  {
   "cell_type": "code",
   "execution_count": 30,
   "metadata": {},
   "outputs": [],
   "source": [
    "total = 0\n",
    "for item in item_list:\n",
    "    label = item[:7]\n",
    "    img_list = []\n",
    "    img = cv2.imread(os.path.join(test_path,item))\n",
    "    img_list.append(img)\n",
    "    lic_pred = cnn_predict(model, img_list)\n",
    "    predict_label = lic_pred[-1][-1]\n",
    "    if predict_label is None:\n",
    "        continue\n",
    "    for idx in range(0,7):\n",
    "        if label[idx] == predict_label[idx]:\n",
    "            result[class_name.format(idx+1)] += 1\n",
    "    if label == predict_label:\n",
    "        total += 1\n"
   ]
  },
  {
   "cell_type": "code",
   "execution_count": 28,
   "metadata": {},
   "outputs": [
    {
     "name": "stdout",
     "output_type": "stream",
     "text": [
      "230 {'c1': 196, 'c2': 226, 'c3': 222, 'c4': 222, 'c5': 223, 'c6': 222, 'c7': 216}\n"
     ]
    }
   ],
   "source": [
    "print(len(item_list),result)"
   ]
  },
  {
   "cell_type": "code",
   "execution_count": 29,
   "metadata": {},
   "outputs": [
    {
     "name": "stdout",
     "output_type": "stream",
     "text": [
      "c1,196\n",
      "c2,226\n",
      "c3,222\n",
      "c4,222\n",
      "c5,223\n",
      "c6,222\n",
      "c7,216\n"
     ]
    }
   ],
   "source": [
    "text = \"{},{}\"\n",
    "for name in result.keys():\n",
    "    print(text.format(name,result[name]))"
   ]
  },
  {
   "cell_type": "code",
   "execution_count": 31,
   "metadata": {},
   "outputs": [
    {
     "name": "stdout",
     "output_type": "stream",
     "text": [
      "157\n"
     ]
    }
   ],
   "source": [
    "print(total)"
   ]
  },
  {
   "cell_type": "code",
   "execution_count": null,
   "metadata": {},
   "outputs": [],
   "source": []
  }
 ],
 "metadata": {
  "interpreter": {
   "hash": "52ee2977380704a66854748a73250e0671a9318bd5b3fd45a3df9f851ae61629"
  },
  "kernelspec": {
   "display_name": "Python 3.9.7 64-bit ('tf': conda)",
   "language": "python",
   "name": "python3"
  },
  "language_info": {
   "codemirror_mode": {
    "name": "ipython",
    "version": 3
   },
   "file_extension": ".py",
   "mimetype": "text/x-python",
   "name": "python",
   "nbconvert_exporter": "python",
   "pygments_lexer": "ipython3",
   "version": "3.9.7"
  },
  "orig_nbformat": 4
 },
 "nbformat": 4,
 "nbformat_minor": 2
}
